{
  "nbformat": 4,
  "nbformat_minor": 0,
  "metadata": {
    "colab": {
      "name": "Credit Risk.ipynb",
      "provenance": [],
      "collapsed_sections": [],
      "authorship_tag": "ABX9TyNfXpVwqu1zIRTwLTxrHEhQ",
      "include_colab_link": true
    },
    "kernelspec": {
      "name": "python3",
      "display_name": "Python 3"
    }
  },
  "cells": [
    {
      "cell_type": "markdown",
      "metadata": {
        "id": "view-in-github",
        "colab_type": "text"
      },
      "source": [
        "<a href=\"https://colab.research.google.com/github/celestialized/11ty-starter/blob/master/Churn_modelling_Square.ipynb\" target=\"_parent\"><img src=\"https://colab.research.google.com/assets/colab-badge.svg\" alt=\"Open In Colab\"/></a>"
      ]
    },
    {
      "cell_type": "code",
      "metadata": {
        "colab": {
          "base_uri": "https://localhost:8080/",
          "height": 270
        },
        "id": "RTKFg6KBiOW0",
        "outputId": "d37c2c74-6786-428c-a602-219af408a2c0"
      },
      "source": [
        "# Importing modules\r\n",
        "import pandas as pd\r\n",
        "import numpy as np\r\n",
        "from matplotlib import pyplot as plt\r\n",
        "from pysurvival.datasets import Dataset\r\n",
        "%pylab inline\r\n",
        "\r\n",
        "# Reading the dataset\r\n",
        "raw_dataset = Dataset('churn').load()\r\n",
        "print(\"The raw_dataset has the following shape: {}.\".format(raw_dataset.shape))\r\n",
        "raw_dataset.head(2)"
      ],
      "execution_count": 6,
      "outputs": [
        {
          "output_type": "stream",
          "text": [
            "ERROR: unknown command \"from\"\n",
            "Populating the interactive namespace from numpy and matplotlib\n"
          ],
          "name": "stdout"
        },
        {
          "output_type": "error",
          "ename": "NameError",
          "evalue": "ignored",
          "traceback": [
            "\u001b[0;31m---------------------------------------------------------------------------\u001b[0m",
            "\u001b[0;31mNameError\u001b[0m                                 Traceback (most recent call last)",
            "\u001b[0;32m<ipython-input-6-102af4a5ade7>\u001b[0m in \u001b[0;36m<module>\u001b[0;34m()\u001b[0m\n\u001b[1;32m      7\u001b[0m \u001b[0;34m\u001b[0m\u001b[0m\n\u001b[1;32m      8\u001b[0m \u001b[0;31m# Reading the dataset\u001b[0m\u001b[0;34m\u001b[0m\u001b[0;34m\u001b[0m\u001b[0;34m\u001b[0m\u001b[0m\n\u001b[0;32m----> 9\u001b[0;31m \u001b[0mraw_dataset\u001b[0m \u001b[0;34m=\u001b[0m \u001b[0mDataset\u001b[0m\u001b[0;34m(\u001b[0m\u001b[0;34m'churn'\u001b[0m\u001b[0;34m)\u001b[0m\u001b[0;34m.\u001b[0m\u001b[0mload\u001b[0m\u001b[0;34m(\u001b[0m\u001b[0;34m)\u001b[0m\u001b[0;34m\u001b[0m\u001b[0;34m\u001b[0m\u001b[0m\n\u001b[0m\u001b[1;32m     10\u001b[0m \u001b[0mprint\u001b[0m\u001b[0;34m(\u001b[0m\u001b[0;34m\"The raw_dataset has the following shape: {}.\"\u001b[0m\u001b[0;34m.\u001b[0m\u001b[0mformat\u001b[0m\u001b[0;34m(\u001b[0m\u001b[0mraw_dataset\u001b[0m\u001b[0;34m.\u001b[0m\u001b[0mshape\u001b[0m\u001b[0;34m)\u001b[0m\u001b[0;34m)\u001b[0m\u001b[0;34m\u001b[0m\u001b[0;34m\u001b[0m\u001b[0m\n\u001b[1;32m     11\u001b[0m \u001b[0mraw_dataset\u001b[0m\u001b[0;34m.\u001b[0m\u001b[0mhead\u001b[0m\u001b[0;34m(\u001b[0m\u001b[0;36m2\u001b[0m\u001b[0;34m)\u001b[0m\u001b[0;34m\u001b[0m\u001b[0;34m\u001b[0m\u001b[0m\n",
            "\u001b[0;31mNameError\u001b[0m: name 'Dataset' is not defined"
          ]
        }
      ]
    },
    {
      "cell_type": "markdown",
      "metadata": {
        "id": "7cej8KeXid4c"
      },
      "source": [
        "+--------------------+------------+--------+---------+ \r\n",
        "|product_data_storage| csat_score | ...    | churned |\r\n",
        "|--------------------|------------|--------|---------|\r\n",
        "| 1024               | 9          | ...    | 0       |\r\n",
        "| 2048               | 10         | ...    | 0       |\r\n"
      ]
    },
    {
      "cell_type": "code",
      "metadata": {
        "colab": {
          "base_uri": "https://localhost:8080/",
          "height": 235
        },
        "id": "qb7NsdTsipc3",
        "outputId": "a2153c2b-50c9-4238-d95d-fcfb1b7ae771"
      },
      "source": [
        "# Creating one-hot vectors\r\n",
        "categories = ['product_travel_expense', 'product_payroll', 'product_accounting',\r\n",
        "              'us_region', 'company_size']\r\n",
        "dataset = pd.get_dummies(raw_dataset, columns=categories, drop_first=True)\r\n",
        "\r\n",
        "# Creating the time and event columns\r\n",
        "time_column = 'months_active'\r\n",
        "event_column = 'churned'\r\n",
        "\r\n",
        "# Extracting the features\r\n",
        "features = np.setdiff1d(dataset.columns, [time_column, event_column] ).tolist()"
      ],
      "execution_count": 3,
      "outputs": [
        {
          "output_type": "error",
          "ename": "NameError",
          "evalue": "ignored",
          "traceback": [
            "\u001b[0;31m---------------------------------------------------------------------------\u001b[0m",
            "\u001b[0;31mNameError\u001b[0m                                 Traceback (most recent call last)",
            "\u001b[0;32m<ipython-input-3-4ea13fb71535>\u001b[0m in \u001b[0;36m<module>\u001b[0;34m()\u001b[0m\n\u001b[1;32m      2\u001b[0m categories = ['product_travel_expense', 'product_payroll', 'product_accounting',\n\u001b[1;32m      3\u001b[0m               'us_region', 'company_size']\n\u001b[0;32m----> 4\u001b[0;31m \u001b[0mdataset\u001b[0m \u001b[0;34m=\u001b[0m \u001b[0mpd\u001b[0m\u001b[0;34m.\u001b[0m\u001b[0mget_dummies\u001b[0m\u001b[0;34m(\u001b[0m\u001b[0mraw_dataset\u001b[0m\u001b[0;34m,\u001b[0m \u001b[0mcolumns\u001b[0m\u001b[0;34m=\u001b[0m\u001b[0mcategories\u001b[0m\u001b[0;34m,\u001b[0m \u001b[0mdrop_first\u001b[0m\u001b[0;34m=\u001b[0m\u001b[0;32mTrue\u001b[0m\u001b[0;34m)\u001b[0m\u001b[0;34m\u001b[0m\u001b[0;34m\u001b[0m\u001b[0m\n\u001b[0m\u001b[1;32m      5\u001b[0m \u001b[0;34m\u001b[0m\u001b[0m\n\u001b[1;32m      6\u001b[0m \u001b[0;31m# Creating the time and event columns\u001b[0m\u001b[0;34m\u001b[0m\u001b[0;34m\u001b[0m\u001b[0;34m\u001b[0m\u001b[0m\n",
            "\u001b[0;31mNameError\u001b[0m: name 'raw_dataset' is not defined"
          ]
        }
      ]
    },
    {
      "cell_type": "code",
      "metadata": {
        "id": "V3-tfwafipm2"
      },
      "source": [
        "# Checking for null values\r\n",
        "N_null = sum(dataset[features].isnull().sum())\r\n",
        "print(\"The raw_dataset contains {} null values\".format(N_null)) #0 null values\r\n",
        "\r\n",
        "# Removing duplicates if there exist\r\n",
        "N_dupli = sum(dataset.duplicated(keep='first'))\r\n",
        "dataset = dataset.drop_duplicates(keep='first').reset_index(drop=True)\r\n",
        "print(\"The raw_dataset contains {} duplicates\".format(N_dupli))\r\n",
        "\r\n",
        "# Number of samples in the dataset\r\n",
        "N = dataset.shape[0]"
      ],
      "execution_count": null,
      "outputs": []
    },
    {
      "cell_type": "code",
      "metadata": {
        "id": "WuBWVzeJipuQ"
      },
      "source": [
        ""
      ],
      "execution_count": null,
      "outputs": []
    },
    {
      "cell_type": "markdown",
      "metadata": {
        "id": "djTO4q-ijSeK"
      },
      "source": [
        ""
      ]
    },
    {
      "cell_type": "code",
      "metadata": {
        "id": "F7jDjiZLipyR"
      },
      "source": [
        "# Building training and testing sets\r\n",
        "from sklearn.model_selection import train_test_split\r\n",
        "index_train, index_test = train_test_split( range(N), test_size = 0.35)\r\n",
        "data_train = dataset.loc[index_train].reset_index( drop = True )\r\n",
        "data_test  = dataset.loc[index_test].reset_index( drop = True )\r\n",
        "\r\n",
        "# Creating the X, T and E inputs\r\n",
        "X_train, X_test = data_train[features], data_test[features]\r\n",
        "T_train, T_test = data_train[time_column], data_test[time_column]\r\n",
        "E_train, E_test = data_train[event_column], data_test[event_column]"
      ],
      "execution_count": null,
      "outputs": []
    },
    {
      "cell_type": "code",
      "metadata": {
        "id": "dlVeZWHrip1s"
      },
      "source": [
        "from pysurvival.models.survival_forest import ConditionalSurvivalForestModel\r\n",
        "\r\n",
        "# Fitting the model\r\n",
        "csf = ConditionalSurvivalForestModel(num_trees=200)\r\n",
        "csf.fit(X_train, T_train, E_train, max_features='sqrt',\r\n",
        "        max_depth=5, min_node_size=20, alpha=0.05, minprop=0.1)"
      ],
      "execution_count": null,
      "outputs": []
    },
    {
      "cell_type": "code",
      "metadata": {
        "id": "5xNY32CYip5O"
      },
      "source": [
        "# Computing variables importance\r\n",
        "csf.variable_importance_table.head(5)"
      ],
      "execution_count": null,
      "outputs": []
    },
    {
      "cell_type": "markdown",
      "metadata": {
        "id": "qGu_DYH_j9TR"
      },
      "source": [
        "Here are the top 5 of the most important features:\r\n",
        "\r\n",
        "+----------------------------+-------------+----------------+\r\n",
        "| feature                    | importance  | pct_importance |\r\n",
        "|----------------------------|-------------|----------------|\r\n",
        "| csat_score                 | 11.251287   | 0.176027       |\r\n",
        "| product_payroll_No         | 11.204996   | 0.175303       |\r\n",
        "| minutes_customer_support   | 9.167136    | 0.143421       |\r\n",
        "| product_accounting_No      | 7.768278    | 0.121535       |\r\n",
        "| product_payroll_Free-Trial | 3.669896    | 0.057416       |\r\n",
        "+----------------------------+-------------+----------------+"
      ]
    },
    {
      "cell_type": "code",
      "metadata": {
        "id": "MzaGYipPj-4F"
      },
      "source": [
        "from pysurvival.utils.metrics import concordance_index\r\n",
        "c_index = concordance_index(csf, X_test, T_test, E_test)\r\n",
        "print('C-index: {:.2f}'.format(c_index)) #0.83"
      ],
      "execution_count": null,
      "outputs": []
    },
    {
      "cell_type": "code",
      "metadata": {
        "id": "i8u0we-vj-7d"
      },
      "source": [
        "from pysurvival.utils.display import integrated_brier_score\r\n",
        "ibs = integrated_brier_score(csf, X_test, T_test, E_test, t_max=12,\r\n",
        "    figure_size=(15,5))\r\n",
        "print('IBS: {:.2f}'.format(ibs))"
      ],
      "execution_count": null,
      "outputs": []
    },
    {
      "cell_type": "code",
      "metadata": {
        "id": "QKh2htc4j_Aq"
      },
      "source": [
        "from pysurvival.utils.display import compare_to_actual\r\n",
        "results = compare_to_actual(csf, X_test, T_test, E_test,\r\n",
        "                            is_at_risk = False,  figure_size=(16, 6),\r\n",
        "                            metrics = ['rmse', 'mean', 'median'])"
      ],
      "execution_count": null,
      "outputs": []
    },
    {
      "cell_type": "code",
      "metadata": {
        "id": "7ij4Ud3Wj_FN"
      },
      "source": [
        "from pysurvival.utils.display import create_risk_groups\r\n",
        "\r\n",
        "risk_groups = create_risk_groups(model=csf, X=X_test,\r\n",
        "    use_log = False, num_bins=30, figure_size=(20, 4),\r\n",
        "    low={'lower_bound':0, 'upper_bound':8.5, 'color':'red'},\r\n",
        "    medium={'lower_bound':8.5, 'upper_bound':12.,'color':'green'},\r\n",
        "    high={'lower_bound':12., 'upper_bound':25,  'color':'blue'}\r\n",
        "    )"
      ],
      "execution_count": null,
      "outputs": []
    },
    {
      "cell_type": "markdown",
      "metadata": {
        "id": "F3KTOyyzkTBN"
      },
      "source": [
        ""
      ]
    },
    {
      "cell_type": "code",
      "metadata": {
        "id": "IpB_9Tvtj_IX"
      },
      "source": [
        "# Initializing the figure\r\n",
        "fig, ax = plt.subplots(figsize=(15, 5))\r\n",
        "\r\n",
        "# Selecting a random individual that experienced an event from each group\r\n",
        "groups = []\r\n",
        "for i, (label, (color, indexes)) in enumerate(risk_groups.items()) :\r\n",
        "\r\n",
        "    # Selecting the individuals that belong to this group\r\n",
        "    if len(indexes) == 0 :\r\n",
        "        continue\r\n",
        "    X = X_test.values[indexes, :]\r\n",
        "    T = T_test.values[indexes]\r\n",
        "    E = E_test.values[indexes]\r\n",
        "\r\n",
        "    # Randomly extracting an individual that experienced an event\r\n",
        "    choices = np.argwhere((E==1.)).flatten()\r\n",
        "    if len(choices) == 0 :\r\n",
        "        continue\r\n",
        "    k = np.random.choice( choices, 1)[0]\r\n",
        "\r\n",
        "    # Saving the time of event\r\n",
        "    t = T[k]\r\n",
        "\r\n",
        "    # Computing the Survival function for all times t\r\n",
        "    survival = csf.predict_survival(X[k, :]).flatten()\r\n",
        "\r\n",
        "    # Displaying the functions\r\n",
        "    label_ = '{} risk'.format(label)\r\n",
        "    plt.plot(csf.times, survival, color = color, label=label_, lw=2)\r\n",
        "    groups.append(label)\r\n",
        "\r\n",
        "    # Actual time\r\n",
        "    plt.axvline(x=t, color=color, ls ='--')\r\n",
        "    ax.annotate('T={:.1f}'.format(t), xy=(t, 0.5*(1.+0.2*i)),\r\n",
        "        xytext=(t, 0.5*(1.+0.2*i)), fontsize=12)\r\n",
        "\r\n",
        "# Show everything\r\n",
        "groups_str = ', '.join(groups)\r\n",
        "title = \"Comparing Survival functions between {} risk grades\".format(groups_str)\r\n",
        "plt.legend(fontsize=12)\r\n",
        "plt.title(title, fontsize=15)\r\n",
        "plt.ylim(0, 1.05)\r\n",
        "plt.show()"
      ],
      "execution_count": null,
      "outputs": []
    },
    {
      "cell_type": "code",
      "metadata": {
        "id": "ZQ0o2PgYj_MV"
      },
      "source": [
        "# Let's now save our model\r\n",
        "from pysurvival.utils import save_model\r\n",
        "save_model(csf, '/Users/xxx/Desktop/churn_csf.zip')\r\n",
        "# https://developer.squareup.com/blog/pysurvival-tutorial-churn-modeling/"
      ],
      "execution_count": null,
      "outputs": []
    },
    {
      "cell_type": "code",
      "metadata": {
        "id": "OHcHRGReip9Q"
      },
      "source": [
        ""
      ],
      "execution_count": null,
      "outputs": []
    }
  ]
}